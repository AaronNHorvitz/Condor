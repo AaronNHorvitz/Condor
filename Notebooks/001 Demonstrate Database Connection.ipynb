{
 "cells": [
  {
   "cell_type": "code",
   "execution_count": 1,
   "metadata": {},
   "outputs": [],
   "source": [
    "import os\n",
    "import sys\n",
    "import getpass\n",
    "from pathlib import Path\n",
    "\n",
    "# Get the current working directory\n",
    "current_dir = Path(os.getcwd())\n",
    "\n",
    "# Get the parent directory (Condor)\n",
    "parent_dir = current_dir.parent\n",
    "\n",
    "# Get the src directory\n",
    "src_dir = parent_dir / \"src\"\n",
    "\n",
    "# Add the src directory to the system path\n",
    "sys.path.append(str(src_dir))\n",
    "\n",
    "# Import modules and libraries from the data_gathering_and_processing directory\n",
    "from mariadb_setup.secure_storage import encrypt, decrypt, store_password, get_password, generate_password\n",
    "from mariadb_setup.mariadb_connector import MariaDBConnector\n"
   ]
  },
  {
   "attachments": {},
   "cell_type": "markdown",
   "metadata": {},
   "source": [
    "## Define your app_name and keys"
   ]
  },
  {
   "cell_type": "code",
   "execution_count": 2,
   "metadata": {},
   "outputs": [],
   "source": [
    "# Define your app_name and keys\n",
    "app_name = \"my_app\"\n",
    "host_key = \"db_host\"\n",
    "port_key = \"db_port\"\n",
    "user_key = \"db_user\"\n",
    "password_key = \"db_password\""
   ]
  },
  {
   "attachments": {},
   "cell_type": "markdown",
   "metadata": {},
   "source": [
    "## (Optional) If you haven't set up the MariaDB encryption password yet\n",
    "## Generate a random encryption password with a length of 50 characters "
   ]
  },
  {
   "cell_type": "code",
   "execution_count": 3,
   "metadata": {},
   "outputs": [],
   "source": [
    "encryption_password = generate_password(50)\n",
    "\n",
    "# Option to print password and store later\n",
    "print('encryption_password =', encryption_password)"
   ]
  },
  {
   "attachments": {},
   "cell_type": "markdown",
   "metadata": {},
   "source": [
    "## Encrypt and store the MariaDB login data"
   ]
  },
  {
   "cell_type": "code",
   "execution_count": null,
   "metadata": {},
   "outputs": [],
   "source": [
    "your_db_host = input(\"Enter the database host: (default is usually 'localhost') \")  \n",
    "your_db_port = int(input(\"Enter the database port: (default is usually 3306) \"))\n",
    "your_db_user = input(\"Enter the database user: (default is usually 'root')\")\n",
    "your_db_password = getpass.getpass(\"Enter the database password: (default is usually '')\")"
   ]
  },
  {
   "cell_type": "code",
   "execution_count": 6,
   "metadata": {},
   "outputs": [],
   "source": [
    "# Encrypt and store the MariaDB login data\n",
    "encrypted_host = encrypt(\"your_db_host\", encryption_password)\n",
    "encrypted_port = encrypt(\"3306\", encryption_password)  # Replace \"3306\" with your actual database port number\n",
    "encrypted_user = encrypt(\"your_db_user\", encryption_password)\n",
    "encrypted_password = encrypt(\"your_db_password\", encryption_password)\n",
    "\n",
    "store_password(app_name, host_key, encrypted_host)\n",
    "store_password(app_name, port_key, encrypted_port)\n",
    "store_password(app_name, user_key, encrypted_user)\n",
    "store_password(app_name, password_key, encrypted_password)"
   ]
  },
  {
   "attachments": {},
   "cell_type": "markdown",
   "metadata": {},
   "source": [
    "## Retrieve and decrypt the MariaDB login data"
   ]
  },
  {
   "cell_type": "code",
   "execution_count": 7,
   "metadata": {},
   "outputs": [],
   "source": [
    "encrypted_host = get_password(app_name, host_key)\n",
    "encrypted_port = get_password(app_name, port_key)\n",
    "encrypted_user = get_password(app_name, user_key)\n",
    "encrypted_password = get_password(app_name, password_key)\n",
    "\n",
    "decrypted_host = decrypt(encrypted_host, encryption_password)\n",
    "decrypted_port = int(decrypt(encrypted_port, encryption_password))\n",
    "decrypted_user = decrypt(encrypted_user, encryption_password)\n",
    "decrypted_password = decrypt(encrypted_password, encryption_password)"
   ]
  },
  {
   "attachments": {},
   "cell_type": "markdown",
   "metadata": {},
   "source": [
    "## Connect to the MariaDB database using the MariaDBConnector class"
   ]
  },
  {
   "cell_type": "code",
   "execution_count": 8,
   "metadata": {},
   "outputs": [
    {
     "ename": "TypeError",
     "evalue": "argument should be a bytes-like object or ASCII string, not 'NoneType'",
     "output_type": "error",
     "traceback": [
      "\u001b[0;31m---------------------------------------------------------------------------\u001b[0m",
      "\u001b[0;31mTypeError\u001b[0m                                 Traceback (most recent call last)",
      "Cell \u001b[0;32mIn[8], line 2\u001b[0m\n\u001b[1;32m      1\u001b[0m connector \u001b[39m=\u001b[39m MariaDBConnector(app_name)\n\u001b[0;32m----> 2\u001b[0m connection \u001b[39m=\u001b[39m connector\u001b[39m.\u001b[39;49mconnect()\n",
      "File \u001b[0;32m~/dev/Condor/src/data_gathering_and_processing/mariadb_connector.py:149\u001b[0m, in \u001b[0;36mMariaDBConnector.connect\u001b[0;34m(self)\u001b[0m\n\u001b[1;32m    139\u001b[0m \u001b[39mdef\u001b[39;00m \u001b[39mconnect\u001b[39m(\u001b[39mself\u001b[39m) \u001b[39m-\u001b[39m\u001b[39m>\u001b[39m Connection:\n\u001b[1;32m    140\u001b[0m \u001b[39m    \u001b[39m\u001b[39m\"\"\"\u001b[39;00m\n\u001b[1;32m    141\u001b[0m \u001b[39m    Establish a connection to the MariaDB database using the decrypted credentials.\u001b[39;00m\n\u001b[1;32m    142\u001b[0m \n\u001b[0;32m   (...)\u001b[0m\n\u001b[1;32m    146\u001b[0m \u001b[39m        A pymysql connection object for the MariaDB database.\u001b[39;00m\n\u001b[1;32m    147\u001b[0m \u001b[39m    \"\"\"\u001b[39;00m\n\u001b[0;32m--> 149\u001b[0m     host, port, user, password \u001b[39m=\u001b[39m \u001b[39mself\u001b[39;49m\u001b[39m.\u001b[39;49mget_credentials()\n\u001b[1;32m    151\u001b[0m     connection \u001b[39m=\u001b[39m pymysql\u001b[39m.\u001b[39mconnect(\n\u001b[1;32m    152\u001b[0m         host\u001b[39m=\u001b[39mhost,\n\u001b[1;32m    153\u001b[0m         port\u001b[39m=\u001b[39mport,\n\u001b[0;32m   (...)\u001b[0m\n\u001b[1;32m    157\u001b[0m         cursorclass\u001b[39m=\u001b[39mpymysql\u001b[39m.\u001b[39mcursors\u001b[39m.\u001b[39mDictCursor\n\u001b[1;32m    158\u001b[0m     )\n\u001b[1;32m    160\u001b[0m     \u001b[39mreturn\u001b[39;00m connection\n",
      "File \u001b[0;32m~/dev/Condor/src/data_gathering_and_processing/mariadb_connector.py:132\u001b[0m, in \u001b[0;36mMariaDBConnector.get_credentials\u001b[0;34m(self)\u001b[0m\n\u001b[1;32m    129\u001b[0m encrypted_user \u001b[39m=\u001b[39m get_password(\u001b[39mself\u001b[39m\u001b[39m.\u001b[39mapp_name, \u001b[39mf\u001b[39m\u001b[39m\"\u001b[39m\u001b[39m{\u001b[39;00menc_key\u001b[39m}\u001b[39;00m\u001b[39m_user\u001b[39m\u001b[39m\"\u001b[39m)\n\u001b[1;32m    130\u001b[0m encrypted_password \u001b[39m=\u001b[39m get_password(\u001b[39mself\u001b[39m\u001b[39m.\u001b[39mapp_name, \u001b[39mf\u001b[39m\u001b[39m\"\u001b[39m\u001b[39m{\u001b[39;00menc_key\u001b[39m}\u001b[39;00m\u001b[39m_password\u001b[39m\u001b[39m\"\u001b[39m)\n\u001b[0;32m--> 132\u001b[0m host \u001b[39m=\u001b[39m decrypt(encrypted_host, \u001b[39mself\u001b[39;49m\u001b[39m.\u001b[39;49mapp_name)\n\u001b[1;32m    133\u001b[0m port \u001b[39m=\u001b[39m \u001b[39mint\u001b[39m(decrypt(encrypted_port, \u001b[39mself\u001b[39m\u001b[39m.\u001b[39mapp_name))\n\u001b[1;32m    134\u001b[0m user \u001b[39m=\u001b[39m decrypt(encrypted_user, \u001b[39mself\u001b[39m\u001b[39m.\u001b[39mapp_name)\n",
      "File \u001b[0;32m~/dev/Condor/src/data_gathering_and_processing/secure_storage.py:125\u001b[0m, in \u001b[0;36mdecrypt\u001b[0;34m(encrypted, password)\u001b[0m\n\u001b[1;32m    108\u001b[0m \u001b[39m\u001b[39m\u001b[39m\"\"\"\u001b[39;00m\n\u001b[1;32m    109\u001b[0m \u001b[39mDecrypt the provided encrypted text using the given password.\u001b[39;00m\n\u001b[1;32m    110\u001b[0m \n\u001b[0;32m   (...)\u001b[0m\n\u001b[1;32m    122\u001b[0m \n\u001b[1;32m    123\u001b[0m \u001b[39m\"\"\"\u001b[39;00m\n\u001b[1;32m    124\u001b[0m backend \u001b[39m=\u001b[39m default_backend()\n\u001b[0;32m--> 125\u001b[0m decoded_data \u001b[39m=\u001b[39m b64decode(encrypted)\n\u001b[1;32m    126\u001b[0m salt, iv, ciphertext \u001b[39m=\u001b[39m decoded_data[:\u001b[39m16\u001b[39m], decoded_data[\u001b[39m16\u001b[39m:\u001b[39m32\u001b[39m], decoded_data[\u001b[39m32\u001b[39m:]\n\u001b[1;32m    128\u001b[0m kdf \u001b[39m=\u001b[39m PBKDF2HMAC(\n\u001b[1;32m    129\u001b[0m     algorithm\u001b[39m=\u001b[39mhashes\u001b[39m.\u001b[39mSHA256(),\n\u001b[1;32m    130\u001b[0m     length\u001b[39m=\u001b[39m\u001b[39m32\u001b[39m,\n\u001b[0;32m   (...)\u001b[0m\n\u001b[1;32m    133\u001b[0m     backend\u001b[39m=\u001b[39mbackend\n\u001b[1;32m    134\u001b[0m )\n",
      "File \u001b[0;32m~/miniconda3/envs/aaron_dev/lib/python3.10/base64.py:80\u001b[0m, in \u001b[0;36mb64decode\u001b[0;34m(s, altchars, validate)\u001b[0m\n\u001b[1;32m     65\u001b[0m \u001b[39mdef\u001b[39;00m \u001b[39mb64decode\u001b[39m(s, altchars\u001b[39m=\u001b[39m\u001b[39mNone\u001b[39;00m, validate\u001b[39m=\u001b[39m\u001b[39mFalse\u001b[39;00m):\n\u001b[1;32m     66\u001b[0m \u001b[39m    \u001b[39m\u001b[39m\"\"\"Decode the Base64 encoded bytes-like object or ASCII string s.\u001b[39;00m\n\u001b[1;32m     67\u001b[0m \n\u001b[1;32m     68\u001b[0m \u001b[39m    Optional altchars must be a bytes-like object or ASCII string of length 2\u001b[39;00m\n\u001b[0;32m   (...)\u001b[0m\n\u001b[1;32m     78\u001b[0m \u001b[39m    in the input result in a binascii.Error.\u001b[39;00m\n\u001b[1;32m     79\u001b[0m \u001b[39m    \"\"\"\u001b[39;00m\n\u001b[0;32m---> 80\u001b[0m     s \u001b[39m=\u001b[39m _bytes_from_decode_data(s)\n\u001b[1;32m     81\u001b[0m     \u001b[39mif\u001b[39;00m altchars \u001b[39mis\u001b[39;00m \u001b[39mnot\u001b[39;00m \u001b[39mNone\u001b[39;00m:\n\u001b[1;32m     82\u001b[0m         altchars \u001b[39m=\u001b[39m _bytes_from_decode_data(altchars)\n",
      "File \u001b[0;32m~/miniconda3/envs/aaron_dev/lib/python3.10/base64.py:45\u001b[0m, in \u001b[0;36m_bytes_from_decode_data\u001b[0;34m(s)\u001b[0m\n\u001b[1;32m     43\u001b[0m     \u001b[39mreturn\u001b[39;00m \u001b[39mmemoryview\u001b[39m(s)\u001b[39m.\u001b[39mtobytes()\n\u001b[1;32m     44\u001b[0m \u001b[39mexcept\u001b[39;00m \u001b[39mTypeError\u001b[39;00m:\n\u001b[0;32m---> 45\u001b[0m     \u001b[39mraise\u001b[39;00m \u001b[39mTypeError\u001b[39;00m(\u001b[39m\"\u001b[39m\u001b[39margument should be a bytes-like object or ASCII \u001b[39m\u001b[39m\"\u001b[39m\n\u001b[1;32m     46\u001b[0m                     \u001b[39m\"\u001b[39m\u001b[39mstring, not \u001b[39m\u001b[39m%r\u001b[39;00m\u001b[39m\"\u001b[39m \u001b[39m%\u001b[39m s\u001b[39m.\u001b[39m\u001b[39m__class__\u001b[39m\u001b[39m.\u001b[39m\u001b[39m__name__\u001b[39m) \u001b[39mfrom\u001b[39;00m \u001b[39mNone\u001b[39m\n",
      "\u001b[0;31mTypeError\u001b[0m: argument should be a bytes-like object or ASCII string, not 'NoneType'"
     ]
    }
   ],
   "source": [
    "connector = MariaDBConnector(app_name)\n",
    "connection = connector.connect()"
   ]
  },
  {
   "attachments": {},
   "cell_type": "markdown",
   "metadata": {},
   "source": [
    "## Perform database operations using the `connection` object\n",
    "## For example, you can execute a simple SELECT query"
   ]
  },
  {
   "cell_type": "code",
   "execution_count": null,
   "metadata": {},
   "outputs": [],
   "source": [
    "cursor = connection.cursor()\n",
    "cursor.execute(\"SELECT VERSION()\")"
   ]
  },
  {
   "cell_type": "code",
   "execution_count": null,
   "metadata": {},
   "outputs": [],
   "source": [
    "version = cursor.fetchone()\n",
    "print(f\"MariaDB server version: {version[0]}\")"
   ]
  },
  {
   "attachments": {},
   "cell_type": "markdown",
   "metadata": {},
   "source": [
    "## Close the cursor and connection when done"
   ]
  },
  {
   "cell_type": "code",
   "execution_count": null,
   "metadata": {},
   "outputs": [],
   "source": [
    "cursor.close()\n",
    "connection.close()"
   ]
  },
  {
   "cell_type": "code",
   "execution_count": null,
   "metadata": {},
   "outputs": [],
   "source": []
  }
 ],
 "metadata": {
  "kernelspec": {
   "display_name": "aaron_dev",
   "language": "python",
   "name": "python3"
  },
  "language_info": {
   "codemirror_mode": {
    "name": "ipython",
    "version": 3
   },
   "file_extension": ".py",
   "mimetype": "text/x-python",
   "name": "python",
   "nbconvert_exporter": "python",
   "pygments_lexer": "ipython3",
   "version": "3.10.9"
  },
  "orig_nbformat": 4,
  "vscode": {
   "interpreter": {
    "hash": "b03854ba755dde3d3039e1a14b88adebc3672615d2f27c53eb89b74fbdf96724"
   }
  }
 },
 "nbformat": 4,
 "nbformat_minor": 2
}
